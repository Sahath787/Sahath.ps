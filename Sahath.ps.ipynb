{
 "cells": [
  {
   "cell_type": "markdown",
   "id": "782ca430-8fcf-4a7c-b7b7-c297ff4a3b3d",
   "metadata": {
    "editable": true,
    "slideshow": {
     "slide_type": ""
    },
    "tags": []
   },
   "source": []
  },
  {
   "cell_type": "markdown",
   "id": "71a13fc7-5982-478c-bd32-f945bf3f1b84",
   "metadata": {
    "editable": true,
    "slideshow": {
     "slide_type": ""
    },
    "tags": []
   },
   "source": [
    "# Data Sceince and Esosytem"
   ]
  },
  {
   "attachments": {},
   "cell_type": "markdown",
   "id": "97c383d7-2385-4802-89c2-b2e433e70a81",
   "metadata": {
    "editable": true,
    "slideshow": {
     "slide_type": ""
    },
    "tags": []
   },
   "source": [
    "In this notebook, Data Sceince Tools and Ecosystem are summarized"
   ]
  },
  {
   "cell_type": "markdown",
   "id": "2896c46c-738e-439e-bfb4-27e0bf41e2c9",
   "metadata": {
    "editable": true,
    "slideshow": {
     "slide_type": ""
    },
    "tags": []
   },
   "source": [
    "Summ of the populare langauges that Data Sceintists use are "
   ]
  },
  {
   "cell_type": "markdown",
   "id": "d2418790-8b0c-48a4-a503-ec76860bfb24",
   "metadata": {
    "editable": true,
    "slideshow": {
     "slide_type": ""
    },
    "tags": []
   },
   "source": [
    "1. Python\n",
    "2. R\n",
    "3. Javascript"
   ]
  },
  {
   "cell_type": "markdown",
   "id": "2ba4065c-df15-4096-a7b7-ab69bbe82b22",
   "metadata": {
    "editable": true,
    "slideshow": {
     "slide_type": ""
    },
    "tags": []
   },
   "source": [
    "Some of the commonly used libraries used by Data Scientists include\n",
    "1. Pandas\n",
    "2. Numby\n",
    "3. tensorFlow"
   ]
  },
  {
   "cell_type": "markdown",
   "id": "9212b71f-f0ac-4ae1-bbf5-6267557afd89",
   "metadata": {
    "editable": true,
    "raw_mimetype": "",
    "slideshow": {
     "slide_type": ""
    },
    "tags": []
   },
   "source": [
    "| --- |\n",
    "| Data Sceince Tools | \n",
    "| --- |\n",
    "| Pandas |\n",
    "| Numby |\n",
    "| TensorFlow |"
   ]
  },
  {
   "cell_type": "markdown",
   "id": "b9a6c61e-6dbc-4000-b531-dccf89f79de6",
   "metadata": {
    "editable": true,
    "slideshow": {
     "slide_type": ""
    },
    "tags": []
   },
   "source": [
    "### Below are a few examples of evaluating arithmetic expressions in Python"
   ]
  },
  {
   "cell_type": "markdown",
   "id": "19195c76-57a8-492d-a0a3-fc8e79c34aba",
   "metadata": {
    "editable": true,
    "slideshow": {
     "slide_type": ""
    },
    "tags": []
   },
   "source": [
    "In this code cell evaluate the expression"
   ]
  },
  {
   "cell_type": "code",
   "execution_count": 5,
   "id": "e017f2c3-9659-4af7-b7d8-0f27e539bbf5",
   "metadata": {
    "editable": true,
    "slideshow": {
     "slide_type": ""
    },
    "tags": []
   },
   "outputs": [
    {
     "data": {
      "text/plain": [
       "17"
      ]
     },
     "execution_count": 5,
     "metadata": {},
     "output_type": "execute_result"
    }
   ],
   "source": [
    "(3*4)+5"
   ]
  },
  {
   "cell_type": "markdown",
   "id": "5d0e7916-4d4e-4af8-88ce-90db660d60b1",
   "metadata": {
    "editable": true,
    "slideshow": {
     "slide_type": ""
    },
    "tags": []
   },
   "source": [
    "# This will convert 200 minutes to hours by diving by 60."
   ]
  },
  {
   "cell_type": "code",
   "execution_count": 6,
   "id": "61d3c82d-9e9a-4b97-862a-c53b1977da87",
   "metadata": {
    "editable": true,
    "slideshow": {
     "slide_type": ""
    },
    "tags": []
   },
   "outputs": [
    {
     "data": {
      "text/plain": [
       "3.3333333333333335"
      ]
     },
     "execution_count": 6,
     "metadata": {},
     "output_type": "execute_result"
    }
   ],
   "source": [
    "200/60"
   ]
  },
  {
   "cell_type": "markdown",
   "id": "d222a7bf-e879-48f9-a39b-3fe5a0ffae5b",
   "metadata": {
    "editable": true,
    "slideshow": {
     "slide_type": ""
    },
    "tags": []
   },
   "source": [
    "**Objectives**"
   ]
  },
  {
   "cell_type": "markdown",
   "id": "7f13f25f-43b2-485c-8d97-eb96840ade3f",
   "metadata": {
    "editable": true,
    "slideshow": {
     "slide_type": ""
    },
    "tags": []
   },
   "source": [
    "- Extract the valuble data that could be used for the stractic decision making\n",
    "- Extract the Data for the marketing improvement\n",
    "- Collecting data\n",
    "- Re Organizing data\n",
    "- Visualization the extracted data \n",
    "- extract specific data from the big data and visualization "
   ]
  },
  {
   "cell_type": "markdown",
   "id": "721d0ef7-6a01-46f3-93d3-baa60e89d183",
   "metadata": {
    "editable": true,
    "slideshow": {
     "slide_type": ""
    },
    "tags": []
   },
   "source": [
    "## Author"
   ]
  },
  {
   "cell_type": "markdown",
   "id": "b690c3a0-2af4-412e-98e5-4ff84b36cdbe",
   "metadata": {
    "editable": true,
    "slideshow": {
     "slide_type": ""
    },
    "tags": []
   },
   "source": [
    "Sahath Ibunu.P.S"
   ]
  },
  {
   "cell_type": "code",
   "execution_count": null,
   "id": "c6134eae-b3a9-4f59-987e-fa2e76e440bb",
   "metadata": {
    "editable": true,
    "slideshow": {
     "slide_type": ""
    },
    "tags": []
   },
   "outputs": [],
   "source": []
  }
 ],
 "metadata": {
  "kernelspec": {
   "display_name": "Python 3 (ipykernel)",
   "language": "python",
   "name": "python3"
  },
  "language_info": {
   "codemirror_mode": {
    "name": "ipython",
    "version": 3
   },
   "file_extension": ".py",
   "mimetype": "text/x-python",
   "name": "python",
   "nbconvert_exporter": "python",
   "pygments_lexer": "ipython3",
   "version": "3.12.8"
  }
 },
 "nbformat": 4,
 "nbformat_minor": 5
}
